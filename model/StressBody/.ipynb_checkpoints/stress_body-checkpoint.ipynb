{
 "cells": [
  {
   "cell_type": "code",
   "execution_count": 402,
   "id": "aboriginal-hardware",
   "metadata": {},
   "outputs": [],
   "source": [
    "import numpy as np\n",
    "import tensorflow as tf\n",
    "from tensorflow import keras\n",
    "from tensorflow.keras.layers import Dense, Activation\n",
    "from tensorflow.keras.optimizers import Adam\n",
    "from tensorflow.keras.metrics import categorical_crossentropy\n",
    "from tensorflow.keras.preprocessing.image import ImageDataGenerator\n",
    "from tensorflow.keras.preprocessing import image\n",
    "from tensorflow.keras.models import Model\n",
    "from tensorflow.keras.applications import imagenet_utils\n",
    "from sklearn.metrics import confusion_matrix\n",
    "import itertools\n",
    "import os\n",
    "import shutil\n",
    "import random\n",
    "import matplotlib.pyplot as plt\n",
    "from keras.models import load_model\n",
    "from time import time\n",
    "from tensorflow.python.keras.callbacks import TensorBoard\n",
    "from sklearn.metrics import roc_curve, auc\n",
    "from keras.models import Sequential\n",
    "from tensorflow.keras.layers import Conv2D\n",
    "from tensorflow.keras.layers import MaxPool2D\n",
    "from tensorflow.keras.layers import Flatten\n",
    "from tensorflow.keras.layers import Dropout\n",
    "from pathlib import Path\n",
    "%matplotlib inline\n",
    "import warnings\n",
    "warnings.filterwarnings('ignore')\n"
   ]
  },
  {
   "cell_type": "code",
   "execution_count": 403,
   "id": "damaged-secretariat",
   "metadata": {},
   "outputs": [
    {
     "name": "stdout",
     "output_type": "stream",
     "text": [
      "2.6.3\n",
      "2.6.0\n"
     ]
    }
   ],
   "source": [
    "print(tf.__version__)\n",
    "print(keras.__version__)"
   ]
  },
  {
   "cell_type": "markdown",
   "id": "chicken-upgrade",
   "metadata": {},
   "source": [
    "# Image Preparation\n"
   ]
  },
  {
   "cell_type": "code",
   "execution_count": 404,
   "id": "stunning-barcelona",
   "metadata": {},
   "outputs": [],
   "source": [
    "train_path='dataset/train'\n",
    "valid_path='dataset/validation'\n",
    "test_path='dataset/test'"
   ]
  },
  {
   "cell_type": "code",
   "execution_count": 405,
   "id": "standing-script",
   "metadata": {},
   "outputs": [
    {
     "name": "stdout",
     "output_type": "stream",
     "text": [
      "Found 500 images belonging to 5 classes.\n",
      "Found 50 images belonging to 5 classes.\n",
      "Found 50 images belonging to 5 classes.\n"
     ]
    }
   ],
   "source": [
    "train_batches=ImageDataGenerator(preprocessing_function=keras.applications.mobilenet.preprocess_input).flow_from_directory(train_path,target_size=(48,48),batch_size=10)\n",
    "valid_batches=ImageDataGenerator(preprocessing_function=keras.applications.mobilenet.preprocess_input).flow_from_directory(valid_path,target_size=(48,48),batch_size=10)\n",
    "test_batches=ImageDataGenerator(preprocessing_function=keras.applications.mobilenet.preprocess_input).flow_from_directory(test_path,target_size=(48,48),batch_size=10,shuffle=False)"
   ]
  },
  {
   "cell_type": "markdown",
   "id": "de940fab",
   "metadata": {},
   "source": [
    "# Build CNN"
   ]
  },
  {
   "cell_type": "code",
   "execution_count": 406,
   "id": "08717714",
   "metadata": {},
   "outputs": [],
   "source": [
    "model = Sequential()\n",
    "model.add(Conv2D(32,5,padding=\"same\", activation=\"relu\", input_shape=(48,48,3)))\n",
    "model.add(MaxPool2D())\n",
    "\n",
    "model.add(Conv2D(32, 3, padding=\"same\", activation=\"relu\"))\n",
    "model.add(MaxPool2D())\n",
    "\n",
    "model.add(Conv2D(64, 3, padding=\"same\", activation=\"relu\"))\n",
    "model.add(MaxPool2D())\n",
    "model.add(Dropout(0.4))\n",
    "\n",
    "model.add(Flatten())\n",
    "model.add(Dense(128,activation=\"relu\"))\n",
    "model.add(Dense(5, activation=\"softmax\"))"
   ]
  },
  {
   "cell_type": "code",
   "execution_count": 407,
   "id": "cb80259f",
   "metadata": {},
   "outputs": [
    {
     "name": "stdout",
     "output_type": "stream",
     "text": [
      "Model: \"sequential_18\"\n",
      "_________________________________________________________________\n",
      "Layer (type)                 Output Shape              Param #   \n",
      "=================================================================\n",
      "conv2d_54 (Conv2D)           (None, 48, 48, 32)        2432      \n",
      "_________________________________________________________________\n",
      "max_pooling2d_54 (MaxPooling (None, 24, 24, 32)        0         \n",
      "_________________________________________________________________\n",
      "conv2d_55 (Conv2D)           (None, 24, 24, 32)        9248      \n",
      "_________________________________________________________________\n",
      "max_pooling2d_55 (MaxPooling (None, 12, 12, 32)        0         \n",
      "_________________________________________________________________\n",
      "conv2d_56 (Conv2D)           (None, 12, 12, 64)        18496     \n",
      "_________________________________________________________________\n",
      "max_pooling2d_56 (MaxPooling (None, 6, 6, 64)          0         \n",
      "_________________________________________________________________\n",
      "dropout_18 (Dropout)         (None, 6, 6, 64)          0         \n",
      "_________________________________________________________________\n",
      "flatten_18 (Flatten)         (None, 2304)              0         \n",
      "_________________________________________________________________\n",
      "dense_36 (Dense)             (None, 128)               295040    \n",
      "_________________________________________________________________\n",
      "dense_37 (Dense)             (None, 5)                 645       \n",
      "=================================================================\n",
      "Total params: 325,861\n",
      "Trainable params: 325,861\n",
      "Non-trainable params: 0\n",
      "_________________________________________________________________\n"
     ]
    }
   ],
   "source": [
    "model.summary()"
   ]
  },
  {
   "cell_type": "markdown",
   "id": "exceptional-volunteer",
   "metadata": {},
   "source": [
    "# Train the model"
   ]
  },
  {
   "cell_type": "code",
   "execution_count": 408,
   "id": "accepting-picnic",
   "metadata": {},
   "outputs": [
    {
     "name": "stderr",
     "output_type": "stream",
     "text": [
      "2023-08-24 23:18:14.223121: I tensorflow/core/profiler/lib/profiler_session.cc:131] Profiler session initializing.\n",
      "2023-08-24 23:18:14.223205: I tensorflow/core/profiler/lib/profiler_session.cc:146] Profiler session started.\n",
      "2023-08-24 23:18:14.223535: I tensorflow/core/profiler/lib/profiler_session.cc:164] Profiler session tear down.\n"
     ]
    }
   ],
   "source": [
    "tensorboard=TensorBoard(log_dir=\"logs/{}\".format(time()))\n",
    "model.compile(Adam(lr=.001),loss='categorical_crossentropy',metrics=['accuracy'])"
   ]
  },
  {
   "cell_type": "code",
   "execution_count": 409,
   "id": "exciting-antenna",
   "metadata": {
    "scrolled": false
   },
   "outputs": [
    {
     "name": "stdout",
     "output_type": "stream",
     "text": [
      "Epoch 1/20\n"
     ]
    },
    {
     "name": "stderr",
     "output_type": "stream",
     "text": [
      "2023-08-24 23:18:15.168784: I tensorflow/core/profiler/lib/profiler_session.cc:131] Profiler session initializing.\n",
      "2023-08-24 23:18:15.168819: I tensorflow/core/profiler/lib/profiler_session.cc:146] Profiler session started.\n",
      "2023-08-24 23:18:15.249419: I tensorflow/core/profiler/lib/profiler_session.cc:66] Profiler session collecting data.\n",
      "2023-08-24 23:18:15.251662: I tensorflow/core/profiler/lib/profiler_session.cc:164] Profiler session tear down.\n",
      "2023-08-24 23:18:15.254471: I tensorflow/core/profiler/rpc/client/save_profile.cc:136] Creating directory: logs/1692899294.2229307/train/plugins/profile/2023_08_24_23_18_15\n",
      "\n",
      "2023-08-24 23:18:15.255559: I tensorflow/core/profiler/rpc/client/save_profile.cc:142] Dumped gzipped tool data for trace.json.gz to logs/1692899294.2229307/train/plugins/profile/2023_08_24_23_18_15/sachin-inspiron.trace.json.gz\n",
      "2023-08-24 23:18:15.259421: I tensorflow/core/profiler/rpc/client/save_profile.cc:136] Creating directory: logs/1692899294.2229307/train/plugins/profile/2023_08_24_23_18_15\n",
      "\n",
      "2023-08-24 23:18:15.259630: I tensorflow/core/profiler/rpc/client/save_profile.cc:142] Dumped gzipped tool data for memory_profile.json.gz to logs/1692899294.2229307/train/plugins/profile/2023_08_24_23_18_15/sachin-inspiron.memory_profile.json.gz\n",
      "2023-08-24 23:18:15.260108: I tensorflow/core/profiler/rpc/client/capture_profile.cc:251] Creating directory: logs/1692899294.2229307/train/plugins/profile/2023_08_24_23_18_15\n",
      "Dumped tool data for xplane.pb to logs/1692899294.2229307/train/plugins/profile/2023_08_24_23_18_15/sachin-inspiron.xplane.pb\n",
      "Dumped tool data for overview_page.pb to logs/1692899294.2229307/train/plugins/profile/2023_08_24_23_18_15/sachin-inspiron.overview_page.pb\n",
      "Dumped tool data for input_pipeline.pb to logs/1692899294.2229307/train/plugins/profile/2023_08_24_23_18_15/sachin-inspiron.input_pipeline.pb\n",
      "Dumped tool data for tensorflow_stats.pb to logs/1692899294.2229307/train/plugins/profile/2023_08_24_23_18_15/sachin-inspiron.tensorflow_stats.pb\n",
      "Dumped tool data for kernel_stats.pb to logs/1692899294.2229307/train/plugins/profile/2023_08_24_23_18_15/sachin-inspiron.kernel_stats.pb\n",
      "\n"
     ]
    },
    {
     "name": "stdout",
     "output_type": "stream",
     "text": [
      "50/50 - 7s - loss: 1.3299 - accuracy: 0.3880 - val_loss: 0.9737 - val_accuracy: 0.5200\n",
      "Epoch 2/20\n",
      "50/50 - 5s - loss: 0.9925 - accuracy: 0.5020 - val_loss: 1.0826 - val_accuracy: 0.4800\n",
      "Epoch 3/20\n",
      "50/50 - 5s - loss: 0.8653 - accuracy: 0.5960 - val_loss: 0.8292 - val_accuracy: 0.6600\n",
      "Epoch 4/20\n",
      "50/50 - 5s - loss: 0.8213 - accuracy: 0.6140 - val_loss: 0.8936 - val_accuracy: 0.6200\n",
      "Epoch 5/20\n",
      "50/50 - 5s - loss: 0.7132 - accuracy: 0.6700 - val_loss: 0.9440 - val_accuracy: 0.6000\n",
      "Epoch 6/20\n",
      "50/50 - 5s - loss: 0.6984 - accuracy: 0.6860 - val_loss: 0.8416 - val_accuracy: 0.6600\n",
      "Epoch 7/20\n",
      "50/50 - 6s - loss: 0.6191 - accuracy: 0.7320 - val_loss: 0.8852 - val_accuracy: 0.6800\n",
      "Epoch 8/20\n",
      "50/50 - 5s - loss: 0.5925 - accuracy: 0.7420 - val_loss: 0.9762 - val_accuracy: 0.4800\n",
      "Epoch 9/20\n",
      "50/50 - 5s - loss: 0.4987 - accuracy: 0.7840 - val_loss: 0.8556 - val_accuracy: 0.6400\n",
      "Epoch 10/20\n",
      "50/50 - 5s - loss: 0.4151 - accuracy: 0.8180 - val_loss: 0.7838 - val_accuracy: 0.6800\n",
      "Epoch 11/20\n",
      "50/50 - 5s - loss: 0.3856 - accuracy: 0.8480 - val_loss: 0.9653 - val_accuracy: 0.7000\n",
      "Epoch 12/20\n",
      "50/50 - 5s - loss: 0.3407 - accuracy: 0.8640 - val_loss: 1.1676 - val_accuracy: 0.6200\n",
      "Epoch 13/20\n",
      "50/50 - 5s - loss: 0.3123 - accuracy: 0.8840 - val_loss: 0.9532 - val_accuracy: 0.6000\n",
      "Epoch 14/20\n",
      "50/50 - 5s - loss: 0.2247 - accuracy: 0.9180 - val_loss: 1.1650 - val_accuracy: 0.6600\n",
      "Epoch 15/20\n",
      "50/50 - 5s - loss: 0.1869 - accuracy: 0.9280 - val_loss: 1.2053 - val_accuracy: 0.6600\n",
      "Epoch 16/20\n",
      "50/50 - 5s - loss: 0.1390 - accuracy: 0.9480 - val_loss: 1.1809 - val_accuracy: 0.7200\n",
      "Epoch 17/20\n",
      "50/50 - 5s - loss: 0.1375 - accuracy: 0.9440 - val_loss: 1.4359 - val_accuracy: 0.6400\n",
      "Epoch 18/20\n",
      "50/50 - 5s - loss: 0.1447 - accuracy: 0.9560 - val_loss: 1.3692 - val_accuracy: 0.6600\n",
      "Epoch 19/20\n",
      "50/50 - 5s - loss: 0.0679 - accuracy: 0.9820 - val_loss: 1.2858 - val_accuracy: 0.6800\n",
      "Epoch 20/20\n",
      "50/50 - 5s - loss: 0.1674 - accuracy: 0.9420 - val_loss: 1.3495 - val_accuracy: 0.7000\n"
     ]
    },
    {
     "data": {
      "text/plain": [
       "<keras.callbacks.History at 0x7f7a4790eca0>"
      ]
     },
     "execution_count": 409,
     "metadata": {},
     "output_type": "execute_result"
    }
   ],
   "source": [
    "model.fit_generator(train_batches,steps_per_epoch=50,validation_data=valid_batches,validation_steps=5,epochs=20,verbose=2,callbacks=[tensorboard])"
   ]
  },
  {
   "cell_type": "code",
   "execution_count": 410,
   "id": "outstanding-chocolate",
   "metadata": {},
   "outputs": [
    {
     "name": "stdout",
     "output_type": "stream",
     "text": [
      "INFO:tensorflow:Assets written to: save_model/assets\n"
     ]
    }
   ],
   "source": [
    "model.save(filepath=\"save_model/\")"
   ]
  },
  {
   "cell_type": "code",
   "execution_count": 411,
   "id": "3e3745a5",
   "metadata": {},
   "outputs": [],
   "source": [
    "# converter = tf.lite.TFLiteConverter.from_saved_model('save_model')\n",
    "# tflite_model = converter.convert()\n",
    "# open(\"mobilenet_v1_1.0_224_quant.tflite\", \"wb\").write(tflite_model)"
   ]
  },
  {
   "cell_type": "markdown",
   "id": "alternate-sixth",
   "metadata": {},
   "source": [
    "# Predict"
   ]
  },
  {
   "cell_type": "code",
   "execution_count": 412,
   "id": "announced-purple",
   "metadata": {},
   "outputs": [
    {
     "data": {
      "text/plain": [
       "array([0, 0, 0, 0, 0, 0, 0, 0, 0, 0, 1, 1, 1, 1, 1, 1, 1, 1, 1, 1, 2, 2,\n",
       "       2, 2, 2, 2, 2, 2, 2, 2, 3, 3, 3, 3, 3, 3, 3, 3, 3, 3, 4, 4, 4, 4,\n",
       "       4, 4, 4, 4, 4, 4], dtype=int32)"
      ]
     },
     "execution_count": 412,
     "metadata": {},
     "output_type": "execute_result"
    }
   ],
   "source": [
    "test_batches.classes"
   ]
  },
  {
   "cell_type": "code",
   "execution_count": 413,
   "id": "revised-estate",
   "metadata": {},
   "outputs": [],
   "source": [
    "predictions=model.predict(x=test_batches,verbose=0)"
   ]
  },
  {
   "cell_type": "code",
   "execution_count": 414,
   "id": "absolute-visit",
   "metadata": {},
   "outputs": [
    {
     "data": {
      "text/plain": [
       "array([[1., 0., 0., 0., 0.],\n",
       "       [1., 0., 0., 0., 0.],\n",
       "       [1., 0., 0., 0., 0.],\n",
       "       [0., 0., 0., 0., 0.],\n",
       "       [0., 1., 0., 0., 0.],\n",
       "       [0., 0., 0., 0., 0.],\n",
       "       [1., 0., 0., 0., 0.],\n",
       "       [1., 0., 0., 0., 0.],\n",
       "       [1., 0., 0., 0., 0.],\n",
       "       [0., 0., 0., 1., 0.],\n",
       "       [1., 0., 0., 0., 0.],\n",
       "       [0., 1., 0., 0., 0.],\n",
       "       [1., 0., 0., 0., 0.],\n",
       "       [0., 1., 0., 0., 0.],\n",
       "       [0., 0., 0., 1., 0.],\n",
       "       [1., 0., 0., 0., 0.],\n",
       "       [0., 1., 0., 0., 0.],\n",
       "       [0., 0., 0., 1., 0.],\n",
       "       [0., 1., 0., 0., 0.],\n",
       "       [0., 1., 0., 0., 0.],\n",
       "       [0., 0., 0., 0., 0.],\n",
       "       [0., 0., 1., 0., 0.],\n",
       "       [0., 0., 1., 0., 0.],\n",
       "       [0., 0., 1., 0., 0.],\n",
       "       [0., 0., 1., 0., 0.],\n",
       "       [0., 0., 1., 0., 0.],\n",
       "       [0., 0., 1., 0., 0.],\n",
       "       [0., 0., 1., 0., 0.],\n",
       "       [0., 0., 1., 0., 0.],\n",
       "       [0., 0., 1., 0., 0.],\n",
       "       [0., 0., 0., 1., 0.],\n",
       "       [0., 0., 0., 1., 0.],\n",
       "       [0., 1., 0., 0., 0.],\n",
       "       [0., 0., 0., 1., 0.],\n",
       "       [0., 1., 0., 0., 0.],\n",
       "       [0., 0., 0., 1., 0.],\n",
       "       [0., 0., 0., 1., 0.],\n",
       "       [0., 0., 0., 1., 0.],\n",
       "       [0., 0., 0., 1., 0.],\n",
       "       [0., 0., 0., 1., 0.],\n",
       "       [0., 0., 0., 0., 1.],\n",
       "       [0., 0., 0., 0., 1.],\n",
       "       [0., 0., 1., 0., 0.],\n",
       "       [0., 0., 1., 0., 0.],\n",
       "       [0., 1., 0., 0., 0.],\n",
       "       [0., 0., 0., 0., 1.],\n",
       "       [0., 0., 0., 0., 1.],\n",
       "       [0., 0., 0., 0., 1.],\n",
       "       [0., 0., 0., 0., 1.],\n",
       "       [0., 0., 0., 0., 1.]], dtype=float32)"
      ]
     },
     "execution_count": 414,
     "metadata": {},
     "output_type": "execute_result"
    }
   ],
   "source": [
    "np.round(predictions)"
   ]
  },
  {
   "cell_type": "code",
   "execution_count": 415,
   "id": "continental-heading",
   "metadata": {},
   "outputs": [],
   "source": [
    "cm=confusion_matrix(y_true=test_batches.classes,y_pred=np.argmax(predictions,axis=-1))"
   ]
  },
  {
   "cell_type": "code",
   "execution_count": 416,
   "id": "boring-possession",
   "metadata": {},
   "outputs": [],
   "source": [
    "def plot_confusion_matrix(cm, classes,\n",
    "                          normalize=False,\n",
    "                          title='Confusion matrix',\n",
    "                          cmap=plt.cm.Blues):\n",
    "    \"\"\"\n",
    "    This function prints and plots the confusion matrix.\n",
    "    Normalization can be applied by setting `normalize=True`.\n",
    "    \"\"\"\n",
    "    plt.imshow(cm, interpolation='nearest', cmap=cmap)\n",
    "    plt.title(title)\n",
    "    plt.colorbar()\n",
    "    tick_marks = np.arange(len(classes))\n",
    "    plt.xticks(tick_marks, classes, rotation=45)\n",
    "    plt.yticks(tick_marks, classes)\n",
    "\n",
    "    if normalize:\n",
    "        cm = cm.astype('float') / cm.sum(axis=1)[:, np.newaxis]\n",
    "        print(\"Normalized confusion matrix\")\n",
    "    else:\n",
    "        print('Confusion matrix, without normalization')\n",
    "\n",
    "    print(cm)\n",
    "\n",
    "    thresh = cm.max() / 2.\n",
    "    for i, j in itertools.product(range(cm.shape[0]), range(cm.shape[1])):\n",
    "        plt.text(j, i, cm[i, j],\n",
    "                 horizontalalignment=\"center\",\n",
    "                 color=\"white\" if cm[i, j] > thresh else \"black\")\n",
    "\n",
    "    plt.tight_layout()\n",
    "    plt.ylabel('True label')\n",
    "    plt.xlabel('Predicted label')"
   ]
  },
  {
   "cell_type": "code",
   "execution_count": 417,
   "id": "decimal-alexandria",
   "metadata": {},
   "outputs": [
    {
     "data": {
      "text/plain": [
       "{'level1': 0, 'level2': 1, 'level3': 2, 'level4': 3, 'level5': 4}"
      ]
     },
     "execution_count": 417,
     "metadata": {},
     "output_type": "execute_result"
    }
   ],
   "source": [
    "test_batches.class_indices"
   ]
  },
  {
   "cell_type": "code",
   "execution_count": 418,
   "id": "accepting-lesson",
   "metadata": {},
   "outputs": [
    {
     "name": "stdout",
     "output_type": "stream",
     "text": [
      "Confusion matrix, without normalization\n",
      "[[6 1 0 3 0]\n",
      " [3 5 0 2 0]\n",
      " [0 0 9 1 0]\n",
      " [0 2 0 8 0]\n",
      " [0 1 2 0 7]]\n"
     ]
    },
    {
     "data": {
      "image/png": "[encoded data removed]",
      "text/plain": [
       "<Figure size 432x288 with 2 Axes>"
      ]
     },
     "metadata": {
      "needs_background": "light"
     },
     "output_type": "display_data"
    }
   ],
   "source": [
    "# cm_plot_labels=['0','1','2','3','4','5','6']\n",
    "cm_plot_labels=['level1','level2','level3','level4', 'level5']\n",
    "plt.figure()\n",
    "plot_confusion_matrix(cm,cm_plot_labels,title='Confusion Matrix')"
   ]
  },
  {
   "cell_type": "markdown",
   "id": "gothic-stopping",
   "metadata": {},
   "source": [
    "# Save trained keras model"
   ]
  },
  {
   "cell_type": "code",
   "execution_count": 419,
   "id": "connected-vampire",
   "metadata": {},
   "outputs": [],
   "source": [
    "model.save('stress_detector.h5')"
   ]
  },
  {
   "cell_type": "markdown",
   "id": "exposed-ensemble",
   "metadata": {},
   "source": [
    "# Do predictions from saved model"
   ]
  },
  {
   "cell_type": "code",
   "execution_count": 420,
   "id": "indoor-investment",
   "metadata": {},
   "outputs": [],
   "source": [
    "from keras.models import load_model\n",
    "from keras_preprocessing.image import ImageDataGenerator, load_img ,img_to_array\n",
    "# from tensorflow.keras.utils import     (img_to_array,\n",
    "#                                        load_img) \n",
    "import datetime\n",
    "import time\n",
    "import os\n",
    "model=load_model('stress_detector.h5')"
   ]
  },
  {
   "cell_type": "markdown",
   "id": "impaired-cooper",
   "metadata": {},
   "source": [
    "# Prediction"
   ]
  },
  {
   "cell_type": "code",
   "execution_count": 421,
   "id": "adapted-world",
   "metadata": {},
   "outputs": [
    {
     "name": "stdout",
     "output_type": "stream",
     "text": [
      "Training_21240782.jpg\n",
      "0\n",
      "level1\n",
      "Training_18263637.jpg\n",
      "0\n",
      "level1\n",
      "Training_39105365.jpg\n",
      "3\n",
      "level4\n",
      "Training_12552898.jpg\n",
      "0\n",
      "level1\n",
      "Training_49402467.jpg\n",
      "0\n",
      "level1\n",
      "Training_66758555.jpg\n",
      "0\n",
      "level1\n",
      "Training_67218522.jpg\n",
      "0\n",
      "level1\n",
      "Training_40250452.jpg\n",
      "1\n",
      "level2\n",
      "Training_44882482.jpg\n",
      "3\n",
      "level4\n",
      "Training_76873410.jpg\n",
      "3\n",
      "level4\n"
     ]
    }
   ],
   "source": [
    "from keras.preprocessing import image\n",
    "from keras.applications.mobilenet import preprocess_input\n",
    "\n",
    "path  = ('dataset/test/level1')\n",
    "filenames = os.listdir(path)\n",
    "total_objectdetected_images=0\n",
    "for file in filenames:\n",
    "    print(file)\n",
    "    img_path='dataset/test/level1/'+file\n",
    "    img =  load_img(img_path, target_size=(48,48))\n",
    "    x =  img_to_array(img)\n",
    "    x = np.expand_dims(x, axis=0)\n",
    "    x = preprocess_input(x)\n",
    "    result1=model.predict(x)\n",
    "    list1 = result1.tolist()\n",
    "    finalresult=list1[0]\n",
    "    max_value = max(finalresult)\n",
    "    max_index = finalresult.index(max_value)\n",
    "\n",
    "\n",
    "    print(max_index)\n",
    "    if max_index==0:\n",
    "        print(\"level1\")\n",
    "    elif max_index==1:\n",
    "        print(\"level2\")\n",
    "    elif max_index==2:\n",
    "        print(\"level3\")\n",
    "    elif max_index==3:\n",
    "        print(\"level4\")\n",
    "    elif max_index==4:\n",
    "        print(\"level5\")\n",
    "   \n"
   ]
  },
  {
   "cell_type": "code",
   "execution_count": null,
   "id": "4f467e32",
   "metadata": {},
   "outputs": [],
   "source": []
  }
 ],
 "metadata": {
  "kernelspec": {
   "display_name": "Python 3 (ipykernel)",
   "language": "python",
   "name": "python3"
  },
  "language_info": {
   "codemirror_mode": {
    "name": "ipython",
    "version": 3
   },
   "file_extension": ".py",
   "mimetype": "text/x-python",
   "name": "python",
   "nbconvert_exporter": "python",
   "pygments_lexer": "ipython3",
   "version": "3.8.16"
  }
 },
 "nbformat": 4,
 "nbformat_minor": 5
}
